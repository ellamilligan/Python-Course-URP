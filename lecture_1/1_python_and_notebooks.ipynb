{
  "cells": [
    {
      "cell_type": "markdown",
      "metadata": {
        "id": "PUVBjWVjTzFC"
      },
      "source": [
        "# Notebook 1: Python Programming and Jupyte Notebooks"
      ]
    },
    {
      "cell_type": "markdown",
      "metadata": {
        "id": "wikQh8qJTzFK"
      },
      "source": [
        "## Welcome to Python"
      ]
    },
    {
      "cell_type": "markdown",
      "metadata": {
        "id": "-BEbWVB5TzFK"
      },
      "source": [
        "In this course we will focus on the Python programming language. There are a number of reasons for this:\n",
        "\n",
        "**Python is one of the easiest languages to learn, to write, and to read.** More than almost any other programming language,  Python code looks like pseudocode. Many aspects of the language help to enforce clarity. There is also a set of convensions, called the [PEP 8 Style Guide](https://www.python.org/dev/peps/pep-0008/), that most programmers have adopted to make their code as clear as possible.\n",
        "\n",
        "**Python allows you to create new code fast**. It is designed to allow you to write programs as quickly and as painlessly as possible. One feature of Python that enables rapid prototyping is that it is an \"interpreted\" language: each line is executed by the Python interpreter one after the next. This is different than C, C++, or Java, which require that programs first be \"compiled\", i.e. translated in their entirety from code to byte code before they are run.\n",
        "\n",
        "**Python is very flexible.** With Python you can do image analysis, sequence analysis, exploratory data analysis, and create publication-quality figures. You can write small analysis scripts or write major software applications. You can use Python at the command line, within a Jupyter notebook (such as this one), or within an interactive programming environment.  \n",
        "\n",
        "**Python is well-supported.** There is an enormous user base for Python. This means that a simple Google search can usually answer any Python programming question you have. There are also a large number of mature 3rd party packages for a wide variety of tasks including image analysis, numerical computation, machine learning, statistics, and graphics.\n",
        "\n",
        "**Python skills are highly valued.** There is great demand for people who know Python, and that demand is rapidly increasing. This is true in both academic resaerch and in industry. In particular, Python has become the de facto language of Deep Learning / Artificial Intelligence."
      ]
    },
    {
      "cell_type": "markdown",
      "metadata": {
        "id": "iXdOBR9pTzFN"
      },
      "source": [
        "The official python documentation page is https://www.python.org/. Lots of good documentation and tutorials can be found here. Another great resource for programmers is Stack Overflow at http://stackoverflow.com/. Until recently the best resource was Google: just google a question you have and the answer will likely be found in the first or second hit. But now the best resources are often ChatGPT (https://chatgpt.com/), Claude (https://claude.ai/), and other large larngauge models (LLMs). With LLMs, just ask a question and the LLM will not just answer but write example code for you that does the task. This doesn't always work, but it often does!"
      ]
    },
    {
      "cell_type": "markdown",
      "metadata": {
        "id": "dTuriUOOTzFN"
      },
      "source": [
        "Note: The R language is also very popular in biology and statistics, and arguably has a larger set of tools written for biological data analysis than does Python. We will not cover this language here, but once you learn Python it should be relatively easy to learn R. There is also a substantial amount of online material to help anyone interested in learning R. (This is also true of Matlab, popular with engineers and neuroscientists.)"
      ]
    },
    {
      "cell_type": "markdown",
      "metadata": {
        "id": "mD7X5kgrTzFO"
      },
      "source": [
        "## Jupyter notebooks"
      ]
    },
    {
      "cell_type": "markdown",
      "metadata": {
        "id": "I3NAH7boTzFP"
      },
      "source": [
        "This is an **Jupyter notebook**. You can learn more about these on the Jupyter project website, http://jupyter.org/. Jupyter notebooks provide a conveneint interface to Python. They allow you to include fully functional Python code inside of a document that also contains markdown (i.e. text like this) and figures that show analysis results. This type of hybrid document provides a very powerful method of interactive data anlysis. I encourage taking advantage of this. In fact I use Jupyter notebooks for most of my data anlysis tasks. Only when I start writing production code do I switch over to more standard Python scripts."
      ]
    },
    {
      "cell_type": "markdown",
      "metadata": {
        "id": "tpYovV1kTzFP"
      },
      "source": [
        "If your computer runs a UNIX-like command line, and you've installed the proper software (e.g. the Anaconda Python distribution, https://www.anaconda.com/products/distribution), you can start a Jupyter notebook by typing this at the command line an pressing enter:\n",
        "\n",
        "```\n",
        "jupyter notebook\n",
        "```\n",
        "\n"
      ]
    },
    {
      "cell_type": "markdown",
      "metadata": {
        "id": "qCGUQw9cTzFQ"
      },
      "source": [
        "For this course, however, we will be using Google CoLab to avoid the potential headache of installing local versions of python on each of your computers. For our purposes, CoLab works nearly identically to Jupyter notebook except that they are run remotely on of Google servers instead of on your own machine."
      ]
    },
    {
      "cell_type": "markdown",
      "metadata": {
        "id": "wEX4gTOYTzFR"
      },
      "source": [
        "## Markdown cells"
      ]
    },
    {
      "cell_type": "markdown",
      "source": [
        "this is a note.\n",
        "\n",
        "## this is a title\n",
        "\n",
        "* this is a list item"
      ],
      "metadata": {
        "id": "IVHpJvhhXDPH"
      }
    },
    {
      "cell_type": "markdown",
      "metadata": {
        "id": "lXWnnFV_TzFS"
      },
      "source": [
        "To create a markdown cell, Click the '+' button in the menue above. Then choose 'Markdown' from the drop-down menu."
      ]
    },
    {
      "cell_type": "markdown",
      "metadata": {
        "id": "Eo_F8L7lTzFS"
      },
      "source": [
        "Markdown is a simple yet powerful way of creating sylized text. For example, you can embed LaTeX code to create an equation:\n",
        "\n",
        "$$\\sin x =  \\sum_{n=0}^\\infty \\frac{(-1)^n x^{2n+1}}{(2n+1)!}$$\n",
        "\n",
        "You can add HTML, e.g. to embed images:\n",
        "\n",
        "<img src=\"https://github.com/iossifov/25e_urp/blob/main/lecture_1/cshl.jpg?raw=1\" alt=\"Drawing\" style=\"width: 400px;\"/>\n",
        "\n",
        "Here is a [Markdown Cheat Sheet](https://github.com/adam-p/markdown-here/wiki/Markdown-Here-Cheatsheet) for reference."
      ]
    },
    {
      "cell_type": "markdown",
      "metadata": {
        "id": "9JDHp81XTzFS"
      },
      "source": [
        "## Code cells"
      ]
    },
    {
      "cell_type": "markdown",
      "metadata": {
        "id": "4z37K97bTzFS"
      },
      "source": [
        "Code cells contain snippets of Python code that you can execute by pressing Shift+Enter. Here is a code cell illustrating this with a simple Hello World program:"
      ]
    },
    {
      "cell_type": "code",
      "execution_count": 1,
      "metadata": {
        "ExecuteTime": {
          "end_time": "2022-06-08T19:25:22.142594Z",
          "start_time": "2022-06-08T19:25:22.140920Z"
        },
        "id": "shHXgKCSTzFT",
        "outputId": "c677290f-39ac-4b5b-c131-6e09d373926d",
        "colab": {
          "base_uri": "https://localhost:8080/"
        }
      },
      "outputs": [
        {
          "output_type": "stream",
          "name": "stdout",
          "text": [
            "Hello World!\n"
          ]
        }
      ],
      "source": [
        "print(\"Hello World!\") # The Hello World program!"
      ]
    },
    {
      "cell_type": "code",
      "execution_count": 6,
      "metadata": {
        "ExecuteTime": {
          "end_time": "2022-06-08T19:25:22.145110Z",
          "start_time": "2022-06-08T19:25:22.143713Z"
        },
        "id": "i3WUmhFOTzFU",
        "outputId": "6e1bac5a-fa92-4be0-9f24-fb23eeaf035d",
        "colab": {
          "base_uri": "https://localhost:8080/"
        }
      },
      "outputs": [
        {
          "output_type": "stream",
          "name": "stdout",
          "text": [
            "Hello Ella\n"
          ]
        }
      ],
      "source": [
        "name = \"Ella\"\n",
        "print(\"Hello\", name)"
      ]
    },
    {
      "cell_type": "markdown",
      "metadata": {
        "id": "QaPd8BhmTzFU"
      },
      "source": [
        "Here, name is a variable we defined! What is a variable? A variable is a symbol (a letter or a group of letters) that serves as a stand in for some value. We can set variables to anything, and change those values around as well."
      ]
    },
    {
      "cell_type": "code",
      "execution_count": 3,
      "metadata": {
        "ExecuteTime": {
          "end_time": "2022-06-08T19:25:22.148959Z",
          "start_time": "2022-06-08T19:25:22.146070Z"
        },
        "id": "pycPuZJ4TzFU",
        "outputId": "9e1652e1-02e3-4326-ff52-f90bf0eeb820",
        "colab": {
          "base_uri": "https://localhost:8080/"
        }
      },
      "outputs": [
        {
          "output_type": "stream",
          "name": "stdout",
          "text": [
            "fruit1 is apple\n"
          ]
        }
      ],
      "source": [
        "fruit1 = \"apple\"\n",
        "print(\"fruit1 is\", fruit1)"
      ]
    },
    {
      "cell_type": "code",
      "execution_count": 4,
      "metadata": {
        "ExecuteTime": {
          "end_time": "2022-06-08T19:25:22.152603Z",
          "start_time": "2022-06-08T19:25:22.150614Z"
        },
        "id": "jOtrS91_TzFU",
        "outputId": "539fb5c3-0dbc-49b1-deab-1e814194495b",
        "colab": {
          "base_uri": "https://localhost:8080/"
        }
      },
      "outputs": [
        {
          "output_type": "stream",
          "name": "stdout",
          "text": [
            "fruit2 is banana\n"
          ]
        }
      ],
      "source": [
        "fruit2 = \"banana\"\n",
        "print(\"fruit2 is\", fruit2)"
      ]
    },
    {
      "cell_type": "code",
      "execution_count": 5,
      "metadata": {
        "ExecuteTime": {
          "end_time": "2022-06-08T19:25:22.155519Z",
          "start_time": "2022-06-08T19:25:22.153475Z"
        },
        "scrolled": true,
        "id": "XNle3hn1TzFV",
        "outputId": "4c1c84b2-46c4-445d-b82f-fd2bc77f2c55",
        "colab": {
          "base_uri": "https://localhost:8080/"
        }
      },
      "outputs": [
        {
          "output_type": "stream",
          "name": "stdout",
          "text": [
            "fruit3 is banana\n"
          ]
        }
      ],
      "source": [
        "fruit3 = fruit2\n",
        "print(\"fruit3 is\", fruit3)"
      ]
    },
    {
      "cell_type": "code",
      "source": [
        "a = 10\n",
        "b = 20\n",
        "print(a + b)"
      ],
      "metadata": {
        "id": "K-mNH51eZn6H",
        "outputId": "6c5b7bb1-1c26-4512-8088-0e0373e1f26f",
        "colab": {
          "base_uri": "https://localhost:8080/"
        }
      },
      "execution_count": 7,
      "outputs": [
        {
          "output_type": "stream",
          "name": "stdout",
          "text": [
            "30\n"
          ]
        }
      ]
    },
    {
      "cell_type": "markdown",
      "metadata": {
        "id": "471kleRgTzFW"
      },
      "source": [
        "We will review different types of the most common variables in the next notebook."
      ]
    },
    {
      "cell_type": "markdown",
      "metadata": {
        "id": "O41u8IQcTzFW"
      },
      "source": [
        "All but the most trivial uses of Python usually require packages that must be imported. Some of the most common packages are `numpy`, `pandas`, and `matplotlib`. To import these, and to assign these packages useful aliases, execute the code below. Although it is not required, [PEP 8 recommends](https://www.python.org/dev/peps/pep-0008/#imports) that you do all package imports at the top of each Python document."
      ]
    },
    {
      "cell_type": "code",
      "execution_count": 8,
      "metadata": {
        "ExecuteTime": {
          "end_time": "2022-06-08T19:25:22.468697Z",
          "start_time": "2022-06-08T19:25:22.156243Z"
        },
        "id": "4Id6rR73TzFW"
      },
      "outputs": [],
      "source": [
        "# First code cell\n",
        "import numpy as np               # numpy is the standard numerical computing package\n",
        "import pandas as pd              # pandas is the standard pacakge for working with dataframes\n",
        "import matplotlib.pyplot as plt  # matplotlib is the standard plotting package"
      ]
    },
    {
      "cell_type": "markdown",
      "metadata": {
        "id": "IGpSScSrTzFW"
      },
      "source": [
        "You can also run commands on the UNIX command line by using the exclamation point symbol."
      ]
    },
    {
      "cell_type": "code",
      "execution_count": 9,
      "metadata": {
        "ExecuteTime": {
          "end_time": "2023-06-14T16:53:55.961450Z",
          "start_time": "2023-06-14T16:53:55.835197Z"
        },
        "id": "aTI8koVLTzFW",
        "outputId": "23ed00ea-7163-4527-bdfe-507dbf89d289",
        "colab": {
          "base_uri": "https://localhost:8080/"
        }
      },
      "outputs": [
        {
          "output_type": "stream",
          "name": "stdout",
          "text": [
            "sample_data\n"
          ]
        }
      ],
      "source": [
        "!ls"
      ]
    },
    {
      "cell_type": "markdown",
      "metadata": {
        "id": "4I373K_4TzFW"
      },
      "source": [
        "## A bit more on variables\n",
        "The variable values can be of different types"
      ]
    },
    {
      "cell_type": "code",
      "execution_count": 13,
      "metadata": {
        "id": "VZ-ThSJeTzFW"
      },
      "outputs": [],
      "source": [
        "a = 123                               # integer\n",
        "pi = 3.14                             # float / synonym for real number\n",
        "s = \"I'm a string\"                    # string / series of characters\n",
        "L = [12, \"house\", 1.124]              # list\n",
        "D = {\"Bob\": 12, \"Tom\": 4, \"Ann\": 9}   # dictionary"
      ]
    },
    {
      "cell_type": "markdown",
      "metadata": {
        "ExecuteTime": {
          "end_time": "2023-06-14T16:53:59.688116Z",
          "start_time": "2023-06-14T16:53:58.680033Z"
        },
        "id": "ypkCL2mvTzFX"
      },
      "source": [
        "Variables can change values"
      ]
    },
    {
      "cell_type": "code",
      "execution_count": 11,
      "metadata": {
        "id": "ylgR_Qa9TzFX",
        "outputId": "b06ecca2-a59e-4028-94a5-60248bc0271a",
        "colab": {
          "base_uri": "https://localhost:8080/"
        }
      },
      "outputs": [
        {
          "output_type": "stream",
          "name": "stdout",
          "text": [
            "v=17\n",
            "v=100\n",
            "v='something else'\n"
          ]
        }
      ],
      "source": [
        "v = 17\n",
        "print(f\"{v=}\") # f strings\n",
        "v = 100\n",
        "print(f\"{v=}\")\n",
        "v = \"something else\"\n",
        "print(f\"{v=}\")"
      ]
    },
    {
      "cell_type": "markdown",
      "metadata": {
        "ExecuteTime": {
          "end_time": "2023-06-14T16:54:01.442323Z",
          "start_time": "2023-06-14T16:54:01.416396Z"
        },
        "id": "1Pbcz-MZTzFZ"
      },
      "source": [
        "## Data structures in python\n",
        "### List"
      ]
    },
    {
      "cell_type": "code",
      "execution_count": 14,
      "metadata": {
        "ExecuteTime": {
          "end_time": "2023-06-14T16:54:04.041841Z",
          "start_time": "2023-06-14T16:54:03.538473Z"
        },
        "id": "l1e8laVcTzFZ",
        "outputId": "670546dc-94e1-42ca-9120-344051a77308",
        "colab": {
          "base_uri": "https://localhost:8080/"
        }
      },
      "outputs": [
        {
          "output_type": "stream",
          "name": "stdout",
          "text": [
            "The length of the list is 3\n",
            "The first element of the list is 12\n",
            "The third element of the list is house\n",
            "The last element of the list is 1.124\n",
            "[12, 'house', 1.124, 'Peter']\n"
          ]
        }
      ],
      "source": [
        "L = [12, \"house\", 1.124]\n",
        "print(\"The length of the list is\", len(L)) # len tells you how long the list is\n",
        "print(\"The first element of the list is\", L[0]) # brackets will allow you to see one item in the list / 0 is the first element in the list\n",
        "print(\"The third element of the list is\", L[1])\n",
        "print(\"The last element of the list is\", L[-1]) # -1 means last element / -2 is second to last element\n",
        "\n",
        "L.append(\"Peter\") # adding something to the end of the list\n",
        "print(L)\n",
        "\n"
      ]
    },
    {
      "cell_type": "markdown",
      "metadata": {
        "ExecuteTime": {
          "end_time": "2023-06-14T16:54:05.871911Z",
          "start_time": "2023-06-14T16:54:04.636058Z"
        },
        "id": "7gIb4Z9lTzFa"
      },
      "source": [
        "### Dictionaries"
      ]
    },
    {
      "cell_type": "code",
      "execution_count": 15,
      "metadata": {
        "id": "DYkLoYYFTzFa",
        "outputId": "e90913b6-6c79-4b7b-9bbb-53cd6f7c8b15",
        "colab": {
          "base_uri": "https://localhost:8080/"
        }
      },
      "outputs": [
        {
          "output_type": "stream",
          "name": "stdout",
          "text": [
            "The length of D is 3\n",
            "Bob's score is 12\n",
            "{'Bob': 12, 'Tom': 4, 'Ann': 9, 'Mary': 16}\n"
          ]
        }
      ],
      "source": [
        "D = {\"Bob\": 12,\n",
        "     \"Tom\": 4,\n",
        "     \"Ann\": 9} # the red is the key the green is the variable / keys cannot repeat, variables can\n",
        "print(\"The length of D is\", len(D))\n",
        "print(\"Bob's score is\", D[\"Bob\"])\n",
        "D[\"Mary\"] = 16 # dictionaries can also grow\n",
        "print(D)\n"
      ]
    },
    {
      "cell_type": "markdown",
      "metadata": {
        "id": "tcJp6q6sTzFb"
      },
      "source": [
        "### Vectors and Matrices (numpy arrays)"
      ]
    },
    {
      "cell_type": "code",
      "execution_count": 16,
      "metadata": {
        "id": "eH4uDBLfTzFb",
        "outputId": "bfcd1585-cddd-47b1-9d18-5ac4940d5921",
        "colab": {
          "base_uri": "https://localhost:8080/"
        }
      },
      "outputs": [
        {
          "output_type": "stream",
          "name": "stdout",
          "text": [
            "v1.shape=(3,)\n",
            "M2.shape=(10, 2)\n",
            "v1+v2=array([10. ,  0. ,  3.3])\n",
            "M1.dot(v1)=array([4, 8])\n",
            "M2.dot(M1)=array([[0.35009166, 0.35009166, 0.35009166],\n",
            "       [1.24888578, 1.24888578, 1.24888578],\n",
            "       [0.55851062, 0.55851062, 0.55851062],\n",
            "       [1.67515194, 1.67515194, 1.67515194],\n",
            "       [1.68279203, 1.68279203, 1.68279203],\n",
            "       [0.62040052, 0.62040052, 0.62040052],\n",
            "       [1.36528997, 1.36528997, 1.36528997],\n",
            "       [0.92060544, 0.92060544, 0.92060544],\n",
            "       [1.11328752, 1.11328752, 1.11328752],\n",
            "       [1.27581942, 1.27581942, 1.27581942]])\n"
          ]
        }
      ],
      "source": [
        "v1 = np.array([0, 1, 3])\n",
        "v2 = np.array([10, -1, 0.3])\n",
        "\n",
        "M1 = np.array([[1, 1, 1], [2, 2, 2]]) #matrix that is 2x3\n",
        "M2 = np.random.rand(10, 2) # contains 10 rows and two columns of random numbers\n",
        "\n",
        "print(f\"{v1.shape=}\")\n",
        "print(f\"{M2.shape=}\")\n",
        "print(f\"{v1+v2=}\")\n",
        "print(f\"{M1.dot(v1)=}\")\n",
        "print(f\"{M2.dot(M1)=}\")"
      ]
    },
    {
      "cell_type": "markdown",
      "metadata": {
        "id": "RYw9YNUFTzFc"
      },
      "source": [
        "### Tables (pandas dataframes)"
      ]
    },
    {
      "cell_type": "code",
      "execution_count": 17,
      "metadata": {
        "id": "3VLKsQKuTzFc",
        "outputId": "94024ccd-2eb4-4c93-a9c1-d9f4c34d4ec5",
        "colab": {
          "base_uri": "https://localhost:8080/",
          "height": 206
        }
      },
      "outputs": [
        {
          "output_type": "execute_result",
          "data": {
            "text/plain": [
              "    name  score  age\n",
              "0    Bob      3   11\n",
              "1  Peter      4   11\n",
              "2    Ann      7   12\n",
              "3  Sasha      7   11\n",
              "4    Tom     -1   13"
            ],
            "text/html": [
              "\n",
              "  <div id=\"df-fe9057d5-896b-4147-9abc-329e505f76af\" class=\"colab-df-container\">\n",
              "    <div>\n",
              "<style scoped>\n",
              "    .dataframe tbody tr th:only-of-type {\n",
              "        vertical-align: middle;\n",
              "    }\n",
              "\n",
              "    .dataframe tbody tr th {\n",
              "        vertical-align: top;\n",
              "    }\n",
              "\n",
              "    .dataframe thead th {\n",
              "        text-align: right;\n",
              "    }\n",
              "</style>\n",
              "<table border=\"1\" class=\"dataframe\">\n",
              "  <thead>\n",
              "    <tr style=\"text-align: right;\">\n",
              "      <th></th>\n",
              "      <th>name</th>\n",
              "      <th>score</th>\n",
              "      <th>age</th>\n",
              "    </tr>\n",
              "  </thead>\n",
              "  <tbody>\n",
              "    <tr>\n",
              "      <th>0</th>\n",
              "      <td>Bob</td>\n",
              "      <td>3</td>\n",
              "      <td>11</td>\n",
              "    </tr>\n",
              "    <tr>\n",
              "      <th>1</th>\n",
              "      <td>Peter</td>\n",
              "      <td>4</td>\n",
              "      <td>11</td>\n",
              "    </tr>\n",
              "    <tr>\n",
              "      <th>2</th>\n",
              "      <td>Ann</td>\n",
              "      <td>7</td>\n",
              "      <td>12</td>\n",
              "    </tr>\n",
              "    <tr>\n",
              "      <th>3</th>\n",
              "      <td>Sasha</td>\n",
              "      <td>7</td>\n",
              "      <td>11</td>\n",
              "    </tr>\n",
              "    <tr>\n",
              "      <th>4</th>\n",
              "      <td>Tom</td>\n",
              "      <td>-1</td>\n",
              "      <td>13</td>\n",
              "    </tr>\n",
              "  </tbody>\n",
              "</table>\n",
              "</div>\n",
              "    <div class=\"colab-df-buttons\">\n",
              "\n",
              "  <div class=\"colab-df-container\">\n",
              "    <button class=\"colab-df-convert\" onclick=\"convertToInteractive('df-fe9057d5-896b-4147-9abc-329e505f76af')\"\n",
              "            title=\"Convert this dataframe to an interactive table.\"\n",
              "            style=\"display:none;\">\n",
              "\n",
              "  <svg xmlns=\"http://www.w3.org/2000/svg\" height=\"24px\" viewBox=\"0 -960 960 960\">\n",
              "    <path d=\"M120-120v-720h720v720H120Zm60-500h600v-160H180v160Zm220 220h160v-160H400v160Zm0 220h160v-160H400v160ZM180-400h160v-160H180v160Zm440 0h160v-160H620v160ZM180-180h160v-160H180v160Zm440 0h160v-160H620v160Z\"/>\n",
              "  </svg>\n",
              "    </button>\n",
              "\n",
              "  <style>\n",
              "    .colab-df-container {\n",
              "      display:flex;\n",
              "      gap: 12px;\n",
              "    }\n",
              "\n",
              "    .colab-df-convert {\n",
              "      background-color: #E8F0FE;\n",
              "      border: none;\n",
              "      border-radius: 50%;\n",
              "      cursor: pointer;\n",
              "      display: none;\n",
              "      fill: #1967D2;\n",
              "      height: 32px;\n",
              "      padding: 0 0 0 0;\n",
              "      width: 32px;\n",
              "    }\n",
              "\n",
              "    .colab-df-convert:hover {\n",
              "      background-color: #E2EBFA;\n",
              "      box-shadow: 0px 1px 2px rgba(60, 64, 67, 0.3), 0px 1px 3px 1px rgba(60, 64, 67, 0.15);\n",
              "      fill: #174EA6;\n",
              "    }\n",
              "\n",
              "    .colab-df-buttons div {\n",
              "      margin-bottom: 4px;\n",
              "    }\n",
              "\n",
              "    [theme=dark] .colab-df-convert {\n",
              "      background-color: #3B4455;\n",
              "      fill: #D2E3FC;\n",
              "    }\n",
              "\n",
              "    [theme=dark] .colab-df-convert:hover {\n",
              "      background-color: #434B5C;\n",
              "      box-shadow: 0px 1px 3px 1px rgba(0, 0, 0, 0.15);\n",
              "      filter: drop-shadow(0px 1px 2px rgba(0, 0, 0, 0.3));\n",
              "      fill: #FFFFFF;\n",
              "    }\n",
              "  </style>\n",
              "\n",
              "    <script>\n",
              "      const buttonEl =\n",
              "        document.querySelector('#df-fe9057d5-896b-4147-9abc-329e505f76af button.colab-df-convert');\n",
              "      buttonEl.style.display =\n",
              "        google.colab.kernel.accessAllowed ? 'block' : 'none';\n",
              "\n",
              "      async function convertToInteractive(key) {\n",
              "        const element = document.querySelector('#df-fe9057d5-896b-4147-9abc-329e505f76af');\n",
              "        const dataTable =\n",
              "          await google.colab.kernel.invokeFunction('convertToInteractive',\n",
              "                                                    [key], {});\n",
              "        if (!dataTable) return;\n",
              "\n",
              "        const docLinkHtml = 'Like what you see? Visit the ' +\n",
              "          '<a target=\"_blank\" href=https://colab.research.google.com/notebooks/data_table.ipynb>data table notebook</a>'\n",
              "          + ' to learn more about interactive tables.';\n",
              "        element.innerHTML = '';\n",
              "        dataTable['output_type'] = 'display_data';\n",
              "        await google.colab.output.renderOutput(dataTable, element);\n",
              "        const docLink = document.createElement('div');\n",
              "        docLink.innerHTML = docLinkHtml;\n",
              "        element.appendChild(docLink);\n",
              "      }\n",
              "    </script>\n",
              "  </div>\n",
              "\n",
              "\n",
              "    <div id=\"df-2a5fb5bf-4322-47f6-9905-9a70bdacbcb3\">\n",
              "      <button class=\"colab-df-quickchart\" onclick=\"quickchart('df-2a5fb5bf-4322-47f6-9905-9a70bdacbcb3')\"\n",
              "                title=\"Suggest charts\"\n",
              "                style=\"display:none;\">\n",
              "\n",
              "<svg xmlns=\"http://www.w3.org/2000/svg\" height=\"24px\"viewBox=\"0 0 24 24\"\n",
              "     width=\"24px\">\n",
              "    <g>\n",
              "        <path d=\"M19 3H5c-1.1 0-2 .9-2 2v14c0 1.1.9 2 2 2h14c1.1 0 2-.9 2-2V5c0-1.1-.9-2-2-2zM9 17H7v-7h2v7zm4 0h-2V7h2v10zm4 0h-2v-4h2v4z\"/>\n",
              "    </g>\n",
              "</svg>\n",
              "      </button>\n",
              "\n",
              "<style>\n",
              "  .colab-df-quickchart {\n",
              "      --bg-color: #E8F0FE;\n",
              "      --fill-color: #1967D2;\n",
              "      --hover-bg-color: #E2EBFA;\n",
              "      --hover-fill-color: #174EA6;\n",
              "      --disabled-fill-color: #AAA;\n",
              "      --disabled-bg-color: #DDD;\n",
              "  }\n",
              "\n",
              "  [theme=dark] .colab-df-quickchart {\n",
              "      --bg-color: #3B4455;\n",
              "      --fill-color: #D2E3FC;\n",
              "      --hover-bg-color: #434B5C;\n",
              "      --hover-fill-color: #FFFFFF;\n",
              "      --disabled-bg-color: #3B4455;\n",
              "      --disabled-fill-color: #666;\n",
              "  }\n",
              "\n",
              "  .colab-df-quickchart {\n",
              "    background-color: var(--bg-color);\n",
              "    border: none;\n",
              "    border-radius: 50%;\n",
              "    cursor: pointer;\n",
              "    display: none;\n",
              "    fill: var(--fill-color);\n",
              "    height: 32px;\n",
              "    padding: 0;\n",
              "    width: 32px;\n",
              "  }\n",
              "\n",
              "  .colab-df-quickchart:hover {\n",
              "    background-color: var(--hover-bg-color);\n",
              "    box-shadow: 0 1px 2px rgba(60, 64, 67, 0.3), 0 1px 3px 1px rgba(60, 64, 67, 0.15);\n",
              "    fill: var(--button-hover-fill-color);\n",
              "  }\n",
              "\n",
              "  .colab-df-quickchart-complete:disabled,\n",
              "  .colab-df-quickchart-complete:disabled:hover {\n",
              "    background-color: var(--disabled-bg-color);\n",
              "    fill: var(--disabled-fill-color);\n",
              "    box-shadow: none;\n",
              "  }\n",
              "\n",
              "  .colab-df-spinner {\n",
              "    border: 2px solid var(--fill-color);\n",
              "    border-color: transparent;\n",
              "    border-bottom-color: var(--fill-color);\n",
              "    animation:\n",
              "      spin 1s steps(1) infinite;\n",
              "  }\n",
              "\n",
              "  @keyframes spin {\n",
              "    0% {\n",
              "      border-color: transparent;\n",
              "      border-bottom-color: var(--fill-color);\n",
              "      border-left-color: var(--fill-color);\n",
              "    }\n",
              "    20% {\n",
              "      border-color: transparent;\n",
              "      border-left-color: var(--fill-color);\n",
              "      border-top-color: var(--fill-color);\n",
              "    }\n",
              "    30% {\n",
              "      border-color: transparent;\n",
              "      border-left-color: var(--fill-color);\n",
              "      border-top-color: var(--fill-color);\n",
              "      border-right-color: var(--fill-color);\n",
              "    }\n",
              "    40% {\n",
              "      border-color: transparent;\n",
              "      border-right-color: var(--fill-color);\n",
              "      border-top-color: var(--fill-color);\n",
              "    }\n",
              "    60% {\n",
              "      border-color: transparent;\n",
              "      border-right-color: var(--fill-color);\n",
              "    }\n",
              "    80% {\n",
              "      border-color: transparent;\n",
              "      border-right-color: var(--fill-color);\n",
              "      border-bottom-color: var(--fill-color);\n",
              "    }\n",
              "    90% {\n",
              "      border-color: transparent;\n",
              "      border-bottom-color: var(--fill-color);\n",
              "    }\n",
              "  }\n",
              "</style>\n",
              "\n",
              "      <script>\n",
              "        async function quickchart(key) {\n",
              "          const quickchartButtonEl =\n",
              "            document.querySelector('#' + key + ' button');\n",
              "          quickchartButtonEl.disabled = true;  // To prevent multiple clicks.\n",
              "          quickchartButtonEl.classList.add('colab-df-spinner');\n",
              "          try {\n",
              "            const charts = await google.colab.kernel.invokeFunction(\n",
              "                'suggestCharts', [key], {});\n",
              "          } catch (error) {\n",
              "            console.error('Error during call to suggestCharts:', error);\n",
              "          }\n",
              "          quickchartButtonEl.classList.remove('colab-df-spinner');\n",
              "          quickchartButtonEl.classList.add('colab-df-quickchart-complete');\n",
              "        }\n",
              "        (() => {\n",
              "          let quickchartButtonEl =\n",
              "            document.querySelector('#df-2a5fb5bf-4322-47f6-9905-9a70bdacbcb3 button');\n",
              "          quickchartButtonEl.style.display =\n",
              "            google.colab.kernel.accessAllowed ? 'block' : 'none';\n",
              "        })();\n",
              "      </script>\n",
              "    </div>\n",
              "\n",
              "  <div id=\"id_67ceacd3-4c75-4baf-9dce-0e338e81feac\">\n",
              "    <style>\n",
              "      .colab-df-generate {\n",
              "        background-color: #E8F0FE;\n",
              "        border: none;\n",
              "        border-radius: 50%;\n",
              "        cursor: pointer;\n",
              "        display: none;\n",
              "        fill: #1967D2;\n",
              "        height: 32px;\n",
              "        padding: 0 0 0 0;\n",
              "        width: 32px;\n",
              "      }\n",
              "\n",
              "      .colab-df-generate:hover {\n",
              "        background-color: #E2EBFA;\n",
              "        box-shadow: 0px 1px 2px rgba(60, 64, 67, 0.3), 0px 1px 3px 1px rgba(60, 64, 67, 0.15);\n",
              "        fill: #174EA6;\n",
              "      }\n",
              "\n",
              "      [theme=dark] .colab-df-generate {\n",
              "        background-color: #3B4455;\n",
              "        fill: #D2E3FC;\n",
              "      }\n",
              "\n",
              "      [theme=dark] .colab-df-generate:hover {\n",
              "        background-color: #434B5C;\n",
              "        box-shadow: 0px 1px 3px 1px rgba(0, 0, 0, 0.15);\n",
              "        filter: drop-shadow(0px 1px 2px rgba(0, 0, 0, 0.3));\n",
              "        fill: #FFFFFF;\n",
              "      }\n",
              "    </style>\n",
              "    <button class=\"colab-df-generate\" onclick=\"generateWithVariable('T')\"\n",
              "            title=\"Generate code using this dataframe.\"\n",
              "            style=\"display:none;\">\n",
              "\n",
              "  <svg xmlns=\"http://www.w3.org/2000/svg\" height=\"24px\"viewBox=\"0 0 24 24\"\n",
              "       width=\"24px\">\n",
              "    <path d=\"M7,19H8.4L18.45,9,17,7.55,7,17.6ZM5,21V16.75L18.45,3.32a2,2,0,0,1,2.83,0l1.4,1.43a1.91,1.91,0,0,1,.58,1.4,1.91,1.91,0,0,1-.58,1.4L9.25,21ZM18.45,9,17,7.55Zm-12,3A5.31,5.31,0,0,0,4.9,8.1,5.31,5.31,0,0,0,1,6.5,5.31,5.31,0,0,0,4.9,4.9,5.31,5.31,0,0,0,6.5,1,5.31,5.31,0,0,0,8.1,4.9,5.31,5.31,0,0,0,12,6.5,5.46,5.46,0,0,0,6.5,12Z\"/>\n",
              "  </svg>\n",
              "    </button>\n",
              "    <script>\n",
              "      (() => {\n",
              "      const buttonEl =\n",
              "        document.querySelector('#id_67ceacd3-4c75-4baf-9dce-0e338e81feac button.colab-df-generate');\n",
              "      buttonEl.style.display =\n",
              "        google.colab.kernel.accessAllowed ? 'block' : 'none';\n",
              "\n",
              "      buttonEl.onclick = () => {\n",
              "        google.colab.notebook.generateWithVariable('T');\n",
              "      }\n",
              "      })();\n",
              "    </script>\n",
              "  </div>\n",
              "\n",
              "    </div>\n",
              "  </div>\n"
            ],
            "application/vnd.google.colaboratory.intrinsic+json": {
              "type": "dataframe",
              "variable_name": "T",
              "summary": "{\n  \"name\": \"T\",\n  \"rows\": 5,\n  \"fields\": [\n    {\n      \"column\": \"name\",\n      \"properties\": {\n        \"dtype\": \"string\",\n        \"num_unique_values\": 5,\n        \"samples\": [\n          \"Peter\",\n          \"Tom\",\n          \"Ann\"\n        ],\n        \"semantic_type\": \"\",\n        \"description\": \"\"\n      }\n    },\n    {\n      \"column\": \"score\",\n      \"properties\": {\n        \"dtype\": \"number\",\n        \"std\": 3,\n        \"min\": -1,\n        \"max\": 7,\n        \"num_unique_values\": 4,\n        \"samples\": [\n          4,\n          -1,\n          3\n        ],\n        \"semantic_type\": \"\",\n        \"description\": \"\"\n      }\n    },\n    {\n      \"column\": \"age\",\n      \"properties\": {\n        \"dtype\": \"number\",\n        \"std\": 0,\n        \"min\": 11,\n        \"max\": 13,\n        \"num_unique_values\": 3,\n        \"samples\": [\n          11,\n          12,\n          13\n        ],\n        \"semantic_type\": \"\",\n        \"description\": \"\"\n      }\n    }\n  ]\n}"
            }
          },
          "metadata": {},
          "execution_count": 17
        }
      ],
      "source": [
        "T = pd.DataFrame({'name': [\"Bob\", \"Peter\", \"Ann\", \"Sasha\", \"Tom\"], 'score': [3, 4, 7, 7, -1], \"age\":[11, 11, 12, 11, 13]}) #creates a table, title of column before the colon\n",
        "T"
      ]
    },
    {
      "cell_type": "markdown",
      "metadata": {
        "id": "D9ds0i8xTzFc"
      },
      "source": [
        "## Python control flow\n",
        "### Contitional statemenets"
      ]
    },
    {
      "cell_type": "code",
      "execution_count": 19,
      "metadata": {
        "id": "njZdWBF7TzFc",
        "outputId": "3a4d163d-0bc2-4cd9-969f-081f731c3c09",
        "colab": {
          "base_uri": "https://localhost:8080/"
        }
      },
      "outputs": [
        {
          "output_type": "stream",
          "name": "stdout",
          "text": [
            "You win!\n"
          ]
        }
      ],
      "source": [
        "dice = np.random.randint(1, 7)\n",
        "if dice > 4:\n",
        "    print(\"You win!\")\n",
        "else:\n",
        "    print(\"You loose!\")"
      ]
    },
    {
      "cell_type": "markdown",
      "metadata": {
        "id": "5oEEgB7lTzFi"
      },
      "source": [
        "### Loops"
      ]
    },
    {
      "cell_type": "code",
      "execution_count": 21,
      "metadata": {
        "id": "lQ4qezUYTzFj",
        "outputId": "7f6f5ead-eda5-4bca-d5df-01df1db6c1d4",
        "colab": {
          "base_uri": "https://localhost:8080/"
        }
      },
      "outputs": [
        {
          "output_type": "stream",
          "name": "stdout",
          "text": [
            "Hi 0\n",
            "Hi 1\n",
            "Hi 2\n",
            "Hi 3\n",
            "Hi 4\n",
            "Hi 5\n",
            "Hi 6\n",
            "Hi 7\n",
            "Hi 8\n",
            "Hi 9\n"
          ]
        }
      ],
      "source": [
        "for i in range(10): # range returns [0, 1, 2, 3, 4, 5, 6, 7, 8, 9]\n",
        "    print(f\"Hi {i}\")"
      ]
    },
    {
      "cell_type": "code",
      "source": [
        "for s in \"This is a text.\": #\n",
        "    print(f\"{s=}\")"
      ],
      "metadata": {
        "id": "FTUQsU_5gUH7",
        "outputId": "90d86c24-0536-41d4-c38c-e5985ec65a28",
        "colab": {
          "base_uri": "https://localhost:8080/"
        }
      },
      "execution_count": 22,
      "outputs": [
        {
          "output_type": "stream",
          "name": "stdout",
          "text": [
            "s='T'\n",
            "s='h'\n",
            "s='i'\n",
            "s='s'\n",
            "s=' '\n",
            "s='i'\n",
            "s='s'\n",
            "s=' '\n",
            "s='a'\n",
            "s=' '\n",
            "s='t'\n",
            "s='e'\n",
            "s='x'\n",
            "s='t'\n",
            "s='.'\n"
          ]
        }
      ]
    },
    {
      "cell_type": "markdown",
      "metadata": {
        "id": "H_N62vHKTzFj"
      },
      "source": [
        "### Functions"
      ]
    },
    {
      "cell_type": "code",
      "execution_count": 24,
      "metadata": {
        "id": "6HJyb0LsTzFj",
        "outputId": "ccccf77e-1f3c-4659-9f8c-b17b379009e2",
        "colab": {
          "base_uri": "https://localhost:8080/"
        }
      },
      "outputs": [
        {
          "output_type": "stream",
          "name": "stdout",
          "text": [
            "fibonachi(5)=8\n",
            "fibonachi(30)=1346269\n"
          ]
        }
      ],
      "source": [
        "def fibonachi(n: int) -> int: # fibonachi's number is two numbers added to each other make the next number in the list\n",
        "    assert n >= 0\n",
        "    if n == 0 or n == 1:\n",
        "        return 1\n",
        "    return fibonachi(n-1) + fibonachi(n-2)\n",
        "\n",
        "print(f\"{fibonachi(5)=}\")\n",
        "print(f\"{fibonachi(30)=}\")"
      ]
    },
    {
      "cell_type": "markdown",
      "metadata": {
        "id": "SgOGpzuHTzFk"
      },
      "source": [
        "## Graphs using matplotlib"
      ]
    },
    {
      "cell_type": "code",
      "execution_count": 25,
      "metadata": {
        "id": "7WxGEY9tTzFk",
        "outputId": "15a1e2a9-5be7-4f4f-f92d-079852885dcf",
        "colab": {
          "base_uri": "https://localhost:8080/",
          "height": 574
        }
      },
      "outputs": [
        {
          "output_type": "stream",
          "name": "stdout",
          "text": [
            "data=array([0.47415967, 0.8566138 , 0.46965387, 0.08951006, 0.93982044,\n",
            "       0.77337709, 0.79027322, 0.16153242, 0.19096064, 0.0495879 ,\n",
            "       0.55029556, 0.52143035, 0.87462405, 0.14005   , 0.95597926,\n",
            "       0.94449763, 0.71860375, 0.97549381, 0.87054197, 0.49794838,\n",
            "       0.20327307, 0.83941915, 0.38401509, 0.40854418, 0.10743739,\n",
            "       0.48206736, 0.75222984, 0.35267285, 0.62577852, 0.43516822])\n"
          ]
        },
        {
          "output_type": "execute_result",
          "data": {
            "text/plain": [
              "Text(0, 0.5, 'value')"
            ]
          },
          "metadata": {},
          "execution_count": 25
        },
        {
          "output_type": "display_data",
          "data": {
            "text/plain": [
              "<Figure size 640x480 with 1 Axes>"
            ],
            "image/png": "[encoded data removed]"
          },
          "metadata": {}
        }
      ],
      "source": [
        "data = np.random.rand(30) #generate 30 random numbers between 0 and 1\n",
        "print(f\"{data=}\")\n",
        "plt.plot(data)\n",
        "plt.xlabel('index')\n",
        "plt.ylabel('value')"
      ]
    },
    {
      "cell_type": "code",
      "source": [
        "x = np.random.rand(100)\n",
        "y = np.random.rand(100)\n",
        "\n",
        "plt.plot(x,y,'.')\n",
        "plt.xlabel('x')\n",
        "plt.ylabel('y')"
      ],
      "metadata": {
        "id": "pZWytYEciFCP",
        "outputId": "f1d78b8a-09a9-41b9-d755-da1097bd6638",
        "colab": {
          "base_uri": "https://localhost:8080/",
          "height": 467
        }
      },
      "execution_count": 27,
      "outputs": [
        {
          "output_type": "execute_result",
          "data": {
            "text/plain": [
              "Text(0, 0.5, 'y')"
            ]
          },
          "metadata": {},
          "execution_count": 27
        },
        {
          "output_type": "display_data",
          "data": {
            "text/plain": [
              "<Figure size 640x480 with 1 Axes>"
            ],
            "image/png": "[encoded data removed]"
          },
          "metadata": {}
        }
      ]
    },
    {
      "cell_type": "markdown",
      "metadata": {
        "id": "YPVqC3GLTzFk"
      },
      "source": [
        "## Exercises"
      ]
    },
    {
      "cell_type": "markdown",
      "metadata": {
        "id": "ztwxAj74TzFk"
      },
      "source": [
        "This course will include a variety of exercises to increase your Python skills. Note that the knowledge needed to complete each exercise will NOT necessarily have been presented or discussed. If you find yourself at sea, **try Googling your question, or using asking an LLM.** This is how most programming is done."
      ]
    },
    {
      "cell_type": "markdown",
      "metadata": {
        "id": "KxLTt6w0TzFl"
      },
      "source": [
        "**E1.1**: Create a markdown cell containing a bulleted list, a numbered list, and a table."
      ]
    },
    {
      "cell_type": "markdown",
      "source": [
        "## Markdown Cell Exercise\n",
        "numbered list:\n",
        "1. Apple\n",
        "2. Banana\n",
        "3. Orange\n",
        "\n",
        "bulleted list:\n",
        "* Cucumber\n",
        "* Carrot\n",
        "* Bell Pepper\n",
        "\n",
        "Table:\n",
        "\n",
        "|Team One|Team Two|Team Three|\n",
        "|:---:|:---:|:---:|\n",
        "|24|32|67|\n",
        "|84|88|96|\n",
        "|100|107|113|\n",
        "\n",
        "NOTE: the colons alter the alignment of the column, below the left column is left aligned, the center column is middle aligned, and the right column is right aligned\n",
        "\n",
        "|Team One|Team Two|Team Three|\n",
        "|:---|:---:|---:|\n",
        "|24|32|67|\n",
        "|84|88|96|\n",
        "|100|107|113|"
      ],
      "metadata": {
        "id": "1fI8FzKehkT5"
      }
    },
    {
      "cell_type": "markdown",
      "metadata": {
        "id": "NwV4UgTrTzFm"
      },
      "source": [
        "**E1.2**: Count the number of 'a' charachters in the text of Shakespeare's Hamlet (https://www.gutenberg.org/cache/epub/1524/pg1524.txt). Can you also find the most common word and how many times it is used?"
      ]
    },
    {
      "cell_type": "code",
      "execution_count": 1,
      "metadata": {
        "ExecuteTime": {
          "end_time": "2023-06-14T16:56:46.124236Z",
          "start_time": "2023-06-14T16:56:46.121768Z"
        },
        "id": "wrMhxUWyTzFm",
        "outputId": "edc1b201-7088-4312-ee72-f79bc5c7e479",
        "colab": {
          "base_uri": "https://localhost:8080/"
        }
      },
      "outputs": [
        {
          "output_type": "stream",
          "name": "stdout",
          "text": [
            "The character 'a' appears 11292 times in Shakespeare's Hamlet.\n"
          ]
        }
      ],
      "source": [
        "## Finding how many \"a\"s are in Hamlet\n",
        "# Ella Milligan 06/18/25\n",
        "import requests #The requests library makes HTTP requests. here, used to download the text content from a URL (the Project Gutenberg link)\n",
        "\n",
        "def count_char_in_hamlet(url, char_to_count):\n",
        "    \"\"\"\n",
        "    Downloads the text of Hamlet from a given URL and counts occurrences\n",
        "    of a specific character (case-insensitive).\n",
        "\n",
        "    Args:\n",
        "        url (str): The URL of the text file.\n",
        "        char_to_count (str): The character to count.\n",
        "\n",
        "    Returns:\n",
        "        int: The number of occurrences of the character.\n",
        "        None: If there's an error downloading the text.\n",
        "    \"\"\"\n",
        "    try:\n",
        "        response = requests.get(url)\n",
        "        response.raise_for_status()  # Raise an HTTPError for bad responses (4xx or 5xx)\n",
        "        hamlet_text = response.text.lower()  # Convert to lowercase for case-insensitive counting\n",
        "        return hamlet_text.count(char_to_count.lower())\n",
        "    except requests.exceptions.RequestException as e:\n",
        "        print(f\"Error downloading the text: {e}\")\n",
        "        return None\n",
        "\n",
        "# The URL for Shakespeare's Hamlet\n",
        "hamlet_url = \"https://www.gutenberg.org/cache/epub/1524/pg1524.txt\"\n",
        "character_to_find = 'a'\n",
        "\n",
        "# Count the 'a' characters\n",
        "count = count_char_in_hamlet(hamlet_url, character_to_find)\n",
        "\n",
        "if count is not None:\n",
        "    print(f\"The character '{character_to_find}' appears {count} times in Shakespeare's Hamlet.\")"
      ]
    },
    {
      "cell_type": "code",
      "source": [
        "## finding most common word in Hamlet\n",
        "# Ella Milligan 06/18/25\n",
        "\n",
        "import requests\n",
        "import re\n",
        "from collections import Counter\n",
        "\n",
        "def get_hamlet_text(url):\n",
        "    \"\"\"\n",
        "    Downloads the text of Hamlet from a given URL.\n",
        "\n",
        "    Args:\n",
        "        url (str): The URL of the text file.\n",
        "\n",
        "    Returns:\n",
        "        str: The downloaded text.\n",
        "        None: If there's an error downloading the text.\n",
        "    \"\"\"\n",
        "    try:\n",
        "        response = requests.get(url)\n",
        "        response.raise_for_status()  # Raise an HTTPError for bad responses (4xx or 5xx)\n",
        "        return response.text\n",
        "    except requests.exceptions.RequestException as e:\n",
        "        print(f\"Error downloading the text: {e}\")\n",
        "        return None\n",
        "\n",
        "def analyze_word_frequency(text):\n",
        "    \"\"\"\n",
        "    Cleans the text, extracts words, and finds the most common word and its count.\n",
        "\n",
        "    Args:\n",
        "        text (str): The input text to analyze.\n",
        "\n",
        "    Returns:\n",
        "        tuple: A tuple containing (most_common_word, count) or (None, None) if no words are found.\n",
        "    \"\"\"\n",
        "    if not text:\n",
        "        return None, None\n",
        "\n",
        "    text = text.lower() #convert text to lowercase\n",
        "\n",
        "    words = re.findall(r'\\b\\w+\\b', text) #remove punctuation and split into words/re.findall to find all sequences of word characters (letters, numbers, underscores)\n",
        "\n",
        "    # Filter out empty strings that might result from splitting\n",
        "    words = [word for word in words if word]\n",
        "\n",
        "    if not words:\n",
        "        return None, None\n",
        "\n",
        "    word_counts = Counter(words) # Count word frequencies using collections.Counter\n",
        "\n",
        "    if word_counts: # Check if there are any words to count\n",
        "        most_common_word, count = word_counts.most_common(1)[0]  # Find the most common word\n",
        "        return most_common_word, count\n",
        "    else:\n",
        "        return None, None\n",
        "\n",
        "hamlet_url = \"https://www.gutenberg.org/cache/epub/1524/pg1524.txt\"\n",
        "\n",
        "hamlet_text_content = get_hamlet_text(hamlet_url) # Get the Hamlet text\n",
        "\n",
        "if hamlet_text_content:\n",
        "    most_common, frequency = analyze_word_frequency(hamlet_text_content)\n",
        "\n",
        "    if most_common:\n",
        "        print(f\"The most common word in Shakespeare's Hamlet is '{most_common}' and it appears {frequency} times.\")\n",
        "    else:\n",
        "        print(\"No words were found to analyze in the text.\")\n",
        "else:\n",
        "    print(\"Could not analyze word frequency due to download error.\")"
      ],
      "metadata": {
        "id": "LEmoydhtWjJi",
        "outputId": "b0599677-ada2-422b-c83d-0cf1ea7ca074",
        "colab": {
          "base_uri": "https://localhost:8080/"
        }
      },
      "execution_count": 3,
      "outputs": [
        {
          "output_type": "stream",
          "name": "stdout",
          "text": [
            "The most common word in Shakespeare's Hamlet is 'the' and it appears 1298 times.\n"
          ]
        }
      ]
    }
  ],
  "metadata": {
    "kernelspec": {
      "display_name": "Python 3 (ipykernel)",
      "language": "python",
      "name": "python3"
    },
    "language_info": {
      "codemirror_mode": {
        "name": "ipython",
        "version": 3
      },
      "file_extension": ".py",
      "mimetype": "text/x-python",
      "name": "python",
      "nbconvert_exporter": "python",
      "pygments_lexer": "ipython3",
      "version": "3.13.5"
    },
    "toc": {
      "base_numbering": 1,
      "nav_menu": {},
      "number_sections": true,
      "sideBar": true,
      "skip_h1_title": false,
      "title_cell": "Table of Contents",
      "title_sidebar": "Contents",
      "toc_cell": false,
      "toc_position": {},
      "toc_section_display": true,
      "toc_window_display": false
    },
    "varInspector": {
      "cols": {
        "lenName": 16,
        "lenType": 16,
        "lenVar": 40
      },
      "kernels_config": {
        "python": {
          "delete_cmd_postfix": "",
          "delete_cmd_prefix": "del ",
          "library": "var_list.py",
          "varRefreshCmd": "print(var_dic_list())"
        },
        "r": {
          "delete_cmd_postfix": ") ",
          "delete_cmd_prefix": "rm(",
          "library": "var_list.r",
          "varRefreshCmd": "cat(var_dic_list()) "
        }
      },
      "types_to_exclude": [
        "module",
        "function",
        "builtin_function_or_method",
        "instance",
        "_Feature"
      ],
      "window_display": false
    },
    "colab": {
      "provenance": []
    }
  },
  "nbformat": 4,
  "nbformat_minor": 0
}